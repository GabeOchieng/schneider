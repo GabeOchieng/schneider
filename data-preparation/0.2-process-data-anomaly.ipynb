{
 "cells": [
  {
   "cell_type": "code",
   "execution_count": 2,
   "metadata": {},
   "outputs": [],
   "source": [
    "%matplotlib inline\n",
    "\n",
    "import os\n",
    "from pathlib import Path\n",
    "\n",
    "import pandas as pd\n",
    "import numpy as np\n",
    "\n",
    "import matplotlib.pyplot as plt\n",
    "\n",
    "DATA_RAW = Path(os.getcwd()) / os.pardir / \"data\" / \"raw\" / \"anomaly\"\n",
    "DATA_FINAL = Path(os.getcwd()) / os.pardir / \"data\" / \"final\" / \"anomaly\""
   ]
  },
  {
   "cell_type": "markdown",
   "metadata": {},
   "source": [
    "# Series1 (Train)\n",
    "\n",
    "This is all of the consumption data for the meters in the buildings.\n",
    "\n",
    " - Remove 'normal_abnormal_tag' column\n",
    " - Write as properly comma separated"
   ]
  },
  {
   "cell_type": "code",
   "execution_count": 3,
   "metadata": {},
   "outputs": [
    {
     "name": "stdout",
     "output_type": "stream",
     "text": [
      "(43668606, 4)\n"
     ]
    },
    {
     "data": {
      "text/html": [
       "<div>\n",
       "<style scoped>\n",
       "    .dataframe tbody tr th:only-of-type {\n",
       "        vertical-align: middle;\n",
       "    }\n",
       "\n",
       "    .dataframe tbody tr th {\n",
       "        vertical-align: top;\n",
       "    }\n",
       "\n",
       "    .dataframe thead th {\n",
       "        text-align: right;\n",
       "    }\n",
       "</style>\n",
       "<table border=\"1\" class=\"dataframe\">\n",
       "  <thead>\n",
       "    <tr style=\"text-align: right;\">\n",
       "      <th></th>\n",
       "      <th>meter_id</th>\n",
       "      <th>Timestamp</th>\n",
       "      <th>Values</th>\n",
       "      <th>normal_abnormal_tag</th>\n",
       "    </tr>\n",
       "  </thead>\n",
       "  <tbody>\n",
       "    <tr>\n",
       "      <th>2532</th>\n",
       "      <td>2</td>\n",
       "      <td>2015-06-11 00:00:00</td>\n",
       "      <td>2035.0</td>\n",
       "      <td>NaN</td>\n",
       "    </tr>\n",
       "    <tr>\n",
       "      <th>2543</th>\n",
       "      <td>2</td>\n",
       "      <td>2015-06-11 00:15:00</td>\n",
       "      <td>2074.0</td>\n",
       "      <td>NaN</td>\n",
       "    </tr>\n",
       "    <tr>\n",
       "      <th>2544</th>\n",
       "      <td>2</td>\n",
       "      <td>2015-06-11 00:30:00</td>\n",
       "      <td>2062.0</td>\n",
       "      <td>NaN</td>\n",
       "    </tr>\n",
       "    <tr>\n",
       "      <th>2525</th>\n",
       "      <td>2</td>\n",
       "      <td>2015-06-11 00:45:00</td>\n",
       "      <td>2025.0</td>\n",
       "      <td>NaN</td>\n",
       "    </tr>\n",
       "    <tr>\n",
       "      <th>2534</th>\n",
       "      <td>2</td>\n",
       "      <td>2015-06-11 01:00:00</td>\n",
       "      <td>2034.0</td>\n",
       "      <td>NaN</td>\n",
       "    </tr>\n",
       "  </tbody>\n",
       "</table>\n",
       "</div>"
      ],
      "text/plain": [
       "     meter_id           Timestamp  Values  normal_abnormal_tag\n",
       "2532        2 2015-06-11 00:00:00  2035.0                  NaN\n",
       "2543        2 2015-06-11 00:15:00  2074.0                  NaN\n",
       "2544        2 2015-06-11 00:30:00  2062.0                  NaN\n",
       "2525        2 2015-06-11 00:45:00  2025.0                  NaN\n",
       "2534        2 2015-06-11 01:00:00  2034.0                  NaN"
      ]
     },
     "execution_count": 3,
     "metadata": {},
     "output_type": "execute_result"
    }
   ],
   "source": [
    "dfs = []\n",
    "\n",
    "for f in (DATA_RAW / 'Series_Given1').glob('*.csv'):\n",
    "    dfs.append(pd.read_csv(f, parse_dates=['Timestamp'], sep=';'))\n",
    "    \n",
    "given1 = pd.concat(dfs).sort_values(['meter_id', 'Timestamp'])\n",
    "\n",
    "print(given1.shape)\n",
    "given1.head()"
   ]
  },
  {
   "cell_type": "code",
   "execution_count": 4,
   "metadata": {},
   "outputs": [
    {
     "name": "stderr",
     "output_type": "stream",
     "text": [
      "/Users/bull/anaconda3/envs/schneider/lib/python3.6/site-packages/numpy/lib/arraysetops.py:466: FutureWarning: elementwise comparison failed; returning scalar instead, but in the future will perform elementwise comparison\n",
      "  mask |= (ar1 == a)\n"
     ]
    },
    {
     "data": {
      "text/html": [
       "<div>\n",
       "<style scoped>\n",
       "    .dataframe tbody tr th:only-of-type {\n",
       "        vertical-align: middle;\n",
       "    }\n",
       "\n",
       "    .dataframe tbody tr th {\n",
       "        vertical-align: top;\n",
       "    }\n",
       "\n",
       "    .dataframe thead th {\n",
       "        text-align: right;\n",
       "    }\n",
       "</style>\n",
       "<table border=\"1\" class=\"dataframe\">\n",
       "  <thead>\n",
       "    <tr style=\"text-align: right;\">\n",
       "      <th></th>\n",
       "      <th>SiteId</th>\n",
       "      <th>Timestamp</th>\n",
       "      <th>Value</th>\n",
       "    </tr>\n",
       "    <tr>\n",
       "      <th>obs_id</th>\n",
       "      <th></th>\n",
       "      <th></th>\n",
       "      <th></th>\n",
       "    </tr>\n",
       "  </thead>\n",
       "  <tbody>\n",
       "    <tr>\n",
       "      <th>744519</th>\n",
       "      <td>1</td>\n",
       "      <td>2014-09-03 00:00:00</td>\n",
       "      <td>9.096555e+05</td>\n",
       "    </tr>\n",
       "    <tr>\n",
       "      <th>7627564</th>\n",
       "      <td>1</td>\n",
       "      <td>2014-09-04 00:00:00</td>\n",
       "      <td>1.748273e+06</td>\n",
       "    </tr>\n",
       "    <tr>\n",
       "      <th>7034705</th>\n",
       "      <td>1</td>\n",
       "      <td>2014-09-05 00:00:00</td>\n",
       "      <td>NaN</td>\n",
       "    </tr>\n",
       "    <tr>\n",
       "      <th>5995486</th>\n",
       "      <td>1</td>\n",
       "      <td>2014-09-06 00:00:00</td>\n",
       "      <td>NaN</td>\n",
       "    </tr>\n",
       "    <tr>\n",
       "      <th>7326510</th>\n",
       "      <td>1</td>\n",
       "      <td>2014-09-07 00:00:00</td>\n",
       "      <td>NaN</td>\n",
       "    </tr>\n",
       "  </tbody>\n",
       "</table>\n",
       "</div>"
      ],
      "text/plain": [
       "         SiteId            Timestamp         Value\n",
       "obs_id                                            \n",
       "744519        1  2014-09-03 00:00:00  9.096555e+05\n",
       "7627564       1  2014-09-04 00:00:00  1.748273e+06\n",
       "7034705       1  2014-09-05 00:00:00           NaN\n",
       "5995486       1  2014-09-06 00:00:00           NaN\n",
       "7326510       1  2014-09-07 00:00:00           NaN"
      ]
     },
     "execution_count": 4,
     "metadata": {},
     "output_type": "execute_result"
    }
   ],
   "source": [
    "# check if overlap with consumption challenge\n",
    "consumption = pd.read_csv(Path(\"../data/final/consumption/public/train.csv\"), index_col=0)\n",
    "consumption.head()"
   ]
  },
  {
   "cell_type": "code",
   "execution_count": 5,
   "metadata": {},
   "outputs": [],
   "source": [
    "sites = consumption.SiteId.unique()"
   ]
  },
  {
   "cell_type": "code",
   "execution_count": 6,
   "metadata": {},
   "outputs": [
    {
     "data": {
      "text/plain": [
       "{2, 38, 234}"
      ]
     },
     "execution_count": 6,
     "metadata": {},
     "output_type": "execute_result"
    }
   ],
   "source": [
    "meters = given1.meter_id.unique()\n",
    "meters\n",
    "\n",
    "in_both = set()\n",
    "for m in meters:\n",
    "    if isinstance(m, str):\n",
    "        m = int(m.split(\"_\")[0])\n",
    "        \n",
    "    if m in sites:\n",
    "        in_both.add(m)\n",
    "        \n",
    "in_both"
   ]
  },
  {
   "cell_type": "code",
   "execution_count": 7,
   "metadata": {},
   "outputs": [],
   "source": [
    "given1.drop(['normal_abnormal_tag'], axis=1, inplace=True)"
   ]
  },
  {
   "cell_type": "code",
   "execution_count": 8,
   "metadata": {},
   "outputs": [],
   "source": [
    "given1.to_csv(DATA_FINAL / \"public\" / \"train.csv\")"
   ]
  },
  {
   "cell_type": "code",
   "execution_count": 9,
   "metadata": {},
   "outputs": [
    {
     "data": {
      "text/html": [
       "<div>\n",
       "<style scoped>\n",
       "    .dataframe tbody tr th:only-of-type {\n",
       "        vertical-align: middle;\n",
       "    }\n",
       "\n",
       "    .dataframe tbody tr th {\n",
       "        vertical-align: top;\n",
       "    }\n",
       "\n",
       "    .dataframe thead th {\n",
       "        text-align: right;\n",
       "    }\n",
       "</style>\n",
       "<table border=\"1\" class=\"dataframe\">\n",
       "  <thead>\n",
       "    <tr style=\"text-align: right;\">\n",
       "      <th></th>\n",
       "      <th>meter_id</th>\n",
       "      <th>Timestamp</th>\n",
       "      <th>Values</th>\n",
       "    </tr>\n",
       "  </thead>\n",
       "  <tbody>\n",
       "    <tr>\n",
       "      <th>2532</th>\n",
       "      <td>2</td>\n",
       "      <td>2015-06-11 00:00:00</td>\n",
       "      <td>2035.0</td>\n",
       "    </tr>\n",
       "    <tr>\n",
       "      <th>2543</th>\n",
       "      <td>2</td>\n",
       "      <td>2015-06-11 00:15:00</td>\n",
       "      <td>2074.0</td>\n",
       "    </tr>\n",
       "    <tr>\n",
       "      <th>2544</th>\n",
       "      <td>2</td>\n",
       "      <td>2015-06-11 00:30:00</td>\n",
       "      <td>2062.0</td>\n",
       "    </tr>\n",
       "    <tr>\n",
       "      <th>2525</th>\n",
       "      <td>2</td>\n",
       "      <td>2015-06-11 00:45:00</td>\n",
       "      <td>2025.0</td>\n",
       "    </tr>\n",
       "    <tr>\n",
       "      <th>2534</th>\n",
       "      <td>2</td>\n",
       "      <td>2015-06-11 01:00:00</td>\n",
       "      <td>2034.0</td>\n",
       "    </tr>\n",
       "  </tbody>\n",
       "</table>\n",
       "</div>"
      ],
      "text/plain": [
       "     meter_id           Timestamp  Values\n",
       "2532        2 2015-06-11 00:00:00  2035.0\n",
       "2543        2 2015-06-11 00:15:00  2074.0\n",
       "2544        2 2015-06-11 00:30:00  2062.0\n",
       "2525        2 2015-06-11 00:45:00  2025.0\n",
       "2534        2 2015-06-11 01:00:00  2034.0"
      ]
     },
     "execution_count": 9,
     "metadata": {},
     "output_type": "execute_result"
    }
   ],
   "source": [
    "given1.head()"
   ]
  },
  {
   "cell_type": "markdown",
   "metadata": {},
   "source": [
    "# Test Set (Given2, Secret)\n",
    "\n",
    " - All are contained in Secret, no need to use Given2"
   ]
  },
  {
   "cell_type": "code",
   "execution_count": 26,
   "metadata": {},
   "outputs": [
    {
     "name": "stdout",
     "output_type": "stream",
     "text": [
      "(402971, 6)\n"
     ]
    },
    {
     "data": {
      "text/html": [
       "<div>\n",
       "<style scoped>\n",
       "    .dataframe tbody tr th:only-of-type {\n",
       "        vertical-align: middle;\n",
       "    }\n",
       "\n",
       "    .dataframe tbody tr th {\n",
       "        vertical-align: top;\n",
       "    }\n",
       "\n",
       "    .dataframe thead th {\n",
       "        text-align: right;\n",
       "    }\n",
       "</style>\n",
       "<table border=\"1\" class=\"dataframe\">\n",
       "  <thead>\n",
       "    <tr style=\"text-align: right;\">\n",
       "      <th></th>\n",
       "      <th>meter_id</th>\n",
       "      <th>Timestamp</th>\n",
       "      <th>Values</th>\n",
       "      <th>site_id</th>\n",
       "      <th>normal_abnormal_tag</th>\n",
       "      <th>given</th>\n",
       "    </tr>\n",
       "  </thead>\n",
       "  <tbody>\n",
       "    <tr>\n",
       "      <th>0</th>\n",
       "      <td>234_203</td>\n",
       "      <td>2013-11-03 00:00:00</td>\n",
       "      <td>NaN</td>\n",
       "      <td>203</td>\n",
       "      <td>normal</td>\n",
       "      <td>secret</td>\n",
       "    </tr>\n",
       "    <tr>\n",
       "      <th>1</th>\n",
       "      <td>234_203</td>\n",
       "      <td>2013-11-03 00:30:00</td>\n",
       "      <td>NaN</td>\n",
       "      <td>203</td>\n",
       "      <td>normal</td>\n",
       "      <td>secret</td>\n",
       "    </tr>\n",
       "    <tr>\n",
       "      <th>2</th>\n",
       "      <td>234_203</td>\n",
       "      <td>2013-11-03 01:00:00</td>\n",
       "      <td>NaN</td>\n",
       "      <td>203</td>\n",
       "      <td>normal</td>\n",
       "      <td>secret</td>\n",
       "    </tr>\n",
       "    <tr>\n",
       "      <th>3</th>\n",
       "      <td>234_203</td>\n",
       "      <td>2013-11-03 01:30:00</td>\n",
       "      <td>NaN</td>\n",
       "      <td>203</td>\n",
       "      <td>normal</td>\n",
       "      <td>secret</td>\n",
       "    </tr>\n",
       "    <tr>\n",
       "      <th>4</th>\n",
       "      <td>234_203</td>\n",
       "      <td>2013-11-03 02:00:00</td>\n",
       "      <td>NaN</td>\n",
       "      <td>203</td>\n",
       "      <td>normal</td>\n",
       "      <td>secret</td>\n",
       "    </tr>\n",
       "  </tbody>\n",
       "</table>\n",
       "</div>"
      ],
      "text/plain": [
       "  meter_id           Timestamp  Values  site_id normal_abnormal_tag   given\n",
       "0  234_203 2013-11-03 00:00:00     NaN      203              normal  secret\n",
       "1  234_203 2013-11-03 00:30:00     NaN      203              normal  secret\n",
       "2  234_203 2013-11-03 01:00:00     NaN      203              normal  secret\n",
       "3  234_203 2013-11-03 01:30:00     NaN      203              normal  secret\n",
       "4  234_203 2013-11-03 02:00:00     NaN      203              normal  secret"
      ]
     },
     "execution_count": 26,
     "metadata": {},
     "output_type": "execute_result"
    }
   ],
   "source": [
    "dfs = []\n",
    "\n",
    "for f in (DATA_RAW / 'Series_Secret').glob('*.csv'):\n",
    "    dfs.append(pd.read_csv(f, parse_dates=['Timestamp'], sep=';'))\n",
    "    \n",
    "secret = pd.concat(dfs).sort_values(['meter_id', 'Timestamp'])\n",
    "\n",
    "print(secret.shape)\n",
    "secret.head()"
   ]
  },
  {
   "cell_type": "code",
   "execution_count": 27,
   "metadata": {},
   "outputs": [
    {
     "data": {
      "text/plain": [
       "38_9686    254547\n",
       "334_61      75224\n",
       "234_203     73200\n",
       "Name: meter_id, dtype: int64"
      ]
     },
     "execution_count": 27,
     "metadata": {},
     "output_type": "execute_result"
    }
   ],
   "source": [
    "secret.meter_id.value_counts()"
   ]
  },
  {
   "cell_type": "code",
   "execution_count": 28,
   "metadata": {},
   "outputs": [
    {
     "data": {
      "text/plain": [
       "normal                                                                                                 369778\n",
       "day with abnormal consumption                                                                           25283\n",
       "abnormal consumption regarding the outside temperature                                                   4745\n",
       "abnormal consumption during unoccupied hours                                                             2255\n",
       "day with abnormal consumption+abnormal consumption regarding the outside temperature                      672\n",
       "abnormal consumption during unoccupied hours+abnormal consumption regarding the outside temperature       199\n",
       "punctual anomaly                                                                                           39\n",
       "Name: normal_abnormal_tag, dtype: int64"
      ]
     },
     "execution_count": 28,
     "metadata": {},
     "output_type": "execute_result"
    }
   ],
   "source": [
    "secret.normal_abnormal_tag.value_counts()"
   ]
  },
  {
   "cell_type": "code",
   "execution_count": 29,
   "metadata": {},
   "outputs": [
    {
     "data": {
      "text/plain": [
       "True"
      ]
     },
     "execution_count": 29,
     "metadata": {},
     "output_type": "execute_result"
    }
   ],
   "source": [
    "secret.meter_id.isin(given1.meter_id.unique()).all()"
   ]
  },
  {
   "cell_type": "code",
   "execution_count": 30,
   "metadata": {},
   "outputs": [
    {
     "data": {
      "text/plain": [
       "336"
      ]
     },
     "execution_count": 30,
     "metadata": {},
     "output_type": "execute_result"
    }
   ],
   "source": [
    "pd.isnull(secret.Values).sum()"
   ]
  },
  {
   "cell_type": "code",
   "execution_count": 31,
   "metadata": {},
   "outputs": [],
   "source": [
    "secret.dropna(inplace=True)"
   ]
  },
  {
   "cell_type": "code",
   "execution_count": 32,
   "metadata": {},
   "outputs": [
    {
     "data": {
      "text/html": [
       "<div>\n",
       "<style scoped>\n",
       "    .dataframe tbody tr th:only-of-type {\n",
       "        vertical-align: middle;\n",
       "    }\n",
       "\n",
       "    .dataframe tbody tr th {\n",
       "        vertical-align: top;\n",
       "    }\n",
       "\n",
       "    .dataframe thead th {\n",
       "        text-align: right;\n",
       "    }\n",
       "</style>\n",
       "<table border=\"1\" class=\"dataframe\">\n",
       "  <thead>\n",
       "    <tr style=\"text-align: right;\">\n",
       "      <th></th>\n",
       "      <th>meter_id</th>\n",
       "      <th>Timestamp</th>\n",
       "      <th>Values</th>\n",
       "      <th>site_id</th>\n",
       "      <th>normal_abnormal_tag</th>\n",
       "      <th>given</th>\n",
       "    </tr>\n",
       "    <tr>\n",
       "      <th>obs_id</th>\n",
       "      <th></th>\n",
       "      <th></th>\n",
       "      <th></th>\n",
       "      <th></th>\n",
       "      <th></th>\n",
       "      <th></th>\n",
       "    </tr>\n",
       "  </thead>\n",
       "  <tbody>\n",
       "    <tr>\n",
       "      <th>171227</th>\n",
       "      <td>234_203</td>\n",
       "      <td>2013-11-03 19:00:00</td>\n",
       "      <td>11636.0</td>\n",
       "      <td>203</td>\n",
       "      <td>normal</td>\n",
       "      <td>secret</td>\n",
       "    </tr>\n",
       "    <tr>\n",
       "      <th>177020</th>\n",
       "      <td>234_203</td>\n",
       "      <td>2013-11-03 19:30:00</td>\n",
       "      <td>11106.0</td>\n",
       "      <td>203</td>\n",
       "      <td>normal</td>\n",
       "      <td>secret</td>\n",
       "    </tr>\n",
       "    <tr>\n",
       "      <th>165375</th>\n",
       "      <td>234_203</td>\n",
       "      <td>2013-11-03 20:00:00</td>\n",
       "      <td>10957.0</td>\n",
       "      <td>203</td>\n",
       "      <td>normal</td>\n",
       "      <td>secret</td>\n",
       "    </tr>\n",
       "    <tr>\n",
       "      <th>207176</th>\n",
       "      <td>234_203</td>\n",
       "      <td>2013-11-03 20:30:00</td>\n",
       "      <td>11157.0</td>\n",
       "      <td>203</td>\n",
       "      <td>normal</td>\n",
       "      <td>secret</td>\n",
       "    </tr>\n",
       "    <tr>\n",
       "      <th>353253</th>\n",
       "      <td>234_203</td>\n",
       "      <td>2013-11-03 21:00:00</td>\n",
       "      <td>12196.0</td>\n",
       "      <td>203</td>\n",
       "      <td>normal</td>\n",
       "      <td>secret</td>\n",
       "    </tr>\n",
       "  </tbody>\n",
       "</table>\n",
       "</div>"
      ],
      "text/plain": [
       "       meter_id           Timestamp   Values  site_id normal_abnormal_tag  \\\n",
       "obs_id                                                                      \n",
       "171227  234_203 2013-11-03 19:00:00  11636.0      203              normal   \n",
       "177020  234_203 2013-11-03 19:30:00  11106.0      203              normal   \n",
       "165375  234_203 2013-11-03 20:00:00  10957.0      203              normal   \n",
       "207176  234_203 2013-11-03 20:30:00  11157.0      203              normal   \n",
       "353253  234_203 2013-11-03 21:00:00  12196.0      203              normal   \n",
       "\n",
       "         given  \n",
       "obs_id          \n",
       "171227  secret  \n",
       "177020  secret  \n",
       "165375  secret  \n",
       "207176  secret  \n",
       "353253  secret  "
      ]
     },
     "execution_count": 32,
     "metadata": {},
     "output_type": "execute_result"
    }
   ],
   "source": [
    "rng = np.random.RandomState(900)\n",
    "idx = rng.permutation(np.arange(secret.shape[0]))\n",
    "idx\n",
    "\n",
    "secret.index = pd.Series(idx, name='obs_id')\n",
    "\n",
    "secret.head()"
   ]
  },
  {
   "cell_type": "code",
   "execution_count": 33,
   "metadata": {},
   "outputs": [],
   "source": [
    "secret['is_abnormal'] = (secret.normal_abnormal_tag != 'normal')"
   ]
  },
  {
   "cell_type": "code",
   "execution_count": 34,
   "metadata": {},
   "outputs": [],
   "source": [
    "test = secret[['meter_id', 'Timestamp', 'is_abnormal']]\n",
    "\n",
    "submission_format = test.copy()\n",
    "submission_format.is_abnormal = False\n",
    "\n",
    "public_subset = (secret.given != 'secret').to_frame()"
   ]
  },
  {
   "cell_type": "code",
   "execution_count": 35,
   "metadata": {},
   "outputs": [
    {
     "data": {
      "text/html": [
       "<div>\n",
       "<style scoped>\n",
       "    .dataframe tbody tr th:only-of-type {\n",
       "        vertical-align: middle;\n",
       "    }\n",
       "\n",
       "    .dataframe tbody tr th {\n",
       "        vertical-align: top;\n",
       "    }\n",
       "\n",
       "    .dataframe thead th {\n",
       "        text-align: right;\n",
       "    }\n",
       "</style>\n",
       "<table border=\"1\" class=\"dataframe\">\n",
       "  <thead>\n",
       "    <tr style=\"text-align: right;\">\n",
       "      <th></th>\n",
       "      <th>meter_id</th>\n",
       "      <th>Timestamp</th>\n",
       "      <th>is_abnormal</th>\n",
       "    </tr>\n",
       "    <tr>\n",
       "      <th>obs_id</th>\n",
       "      <th></th>\n",
       "      <th></th>\n",
       "      <th></th>\n",
       "    </tr>\n",
       "  </thead>\n",
       "  <tbody>\n",
       "    <tr>\n",
       "      <th>171227</th>\n",
       "      <td>234_203</td>\n",
       "      <td>2013-11-03 19:00:00</td>\n",
       "      <td>False</td>\n",
       "    </tr>\n",
       "    <tr>\n",
       "      <th>177020</th>\n",
       "      <td>234_203</td>\n",
       "      <td>2013-11-03 19:30:00</td>\n",
       "      <td>False</td>\n",
       "    </tr>\n",
       "    <tr>\n",
       "      <th>165375</th>\n",
       "      <td>234_203</td>\n",
       "      <td>2013-11-03 20:00:00</td>\n",
       "      <td>False</td>\n",
       "    </tr>\n",
       "    <tr>\n",
       "      <th>207176</th>\n",
       "      <td>234_203</td>\n",
       "      <td>2013-11-03 20:30:00</td>\n",
       "      <td>False</td>\n",
       "    </tr>\n",
       "    <tr>\n",
       "      <th>353253</th>\n",
       "      <td>234_203</td>\n",
       "      <td>2013-11-03 21:00:00</td>\n",
       "      <td>False</td>\n",
       "    </tr>\n",
       "  </tbody>\n",
       "</table>\n",
       "</div>"
      ],
      "text/plain": [
       "       meter_id           Timestamp  is_abnormal\n",
       "obs_id                                          \n",
       "171227  234_203 2013-11-03 19:00:00        False\n",
       "177020  234_203 2013-11-03 19:30:00        False\n",
       "165375  234_203 2013-11-03 20:00:00        False\n",
       "207176  234_203 2013-11-03 20:30:00        False\n",
       "353253  234_203 2013-11-03 21:00:00        False"
      ]
     },
     "execution_count": 35,
     "metadata": {},
     "output_type": "execute_result"
    }
   ],
   "source": [
    "test.head()"
   ]
  },
  {
   "cell_type": "code",
   "execution_count": 36,
   "metadata": {},
   "outputs": [
    {
     "data": {
      "text/html": [
       "<div>\n",
       "<style scoped>\n",
       "    .dataframe tbody tr th:only-of-type {\n",
       "        vertical-align: middle;\n",
       "    }\n",
       "\n",
       "    .dataframe tbody tr th {\n",
       "        vertical-align: top;\n",
       "    }\n",
       "\n",
       "    .dataframe thead th {\n",
       "        text-align: right;\n",
       "    }\n",
       "</style>\n",
       "<table border=\"1\" class=\"dataframe\">\n",
       "  <thead>\n",
       "    <tr style=\"text-align: right;\">\n",
       "      <th></th>\n",
       "      <th>meter_id</th>\n",
       "      <th>Timestamp</th>\n",
       "      <th>is_abnormal</th>\n",
       "    </tr>\n",
       "    <tr>\n",
       "      <th>obs_id</th>\n",
       "      <th></th>\n",
       "      <th></th>\n",
       "      <th></th>\n",
       "    </tr>\n",
       "  </thead>\n",
       "  <tbody>\n",
       "    <tr>\n",
       "      <th>171227</th>\n",
       "      <td>234_203</td>\n",
       "      <td>2013-11-03 19:00:00</td>\n",
       "      <td>False</td>\n",
       "    </tr>\n",
       "    <tr>\n",
       "      <th>177020</th>\n",
       "      <td>234_203</td>\n",
       "      <td>2013-11-03 19:30:00</td>\n",
       "      <td>False</td>\n",
       "    </tr>\n",
       "    <tr>\n",
       "      <th>165375</th>\n",
       "      <td>234_203</td>\n",
       "      <td>2013-11-03 20:00:00</td>\n",
       "      <td>False</td>\n",
       "    </tr>\n",
       "    <tr>\n",
       "      <th>207176</th>\n",
       "      <td>234_203</td>\n",
       "      <td>2013-11-03 20:30:00</td>\n",
       "      <td>False</td>\n",
       "    </tr>\n",
       "    <tr>\n",
       "      <th>353253</th>\n",
       "      <td>234_203</td>\n",
       "      <td>2013-11-03 21:00:00</td>\n",
       "      <td>False</td>\n",
       "    </tr>\n",
       "  </tbody>\n",
       "</table>\n",
       "</div>"
      ],
      "text/plain": [
       "       meter_id           Timestamp  is_abnormal\n",
       "obs_id                                          \n",
       "171227  234_203 2013-11-03 19:00:00        False\n",
       "177020  234_203 2013-11-03 19:30:00        False\n",
       "165375  234_203 2013-11-03 20:00:00        False\n",
       "207176  234_203 2013-11-03 20:30:00        False\n",
       "353253  234_203 2013-11-03 21:00:00        False"
      ]
     },
     "execution_count": 36,
     "metadata": {},
     "output_type": "execute_result"
    }
   ],
   "source": [
    "submission_format.head()"
   ]
  },
  {
   "cell_type": "code",
   "execution_count": 37,
   "metadata": {},
   "outputs": [
    {
     "data": {
      "text/html": [
       "<div>\n",
       "<style scoped>\n",
       "    .dataframe tbody tr th:only-of-type {\n",
       "        vertical-align: middle;\n",
       "    }\n",
       "\n",
       "    .dataframe tbody tr th {\n",
       "        vertical-align: top;\n",
       "    }\n",
       "\n",
       "    .dataframe thead th {\n",
       "        text-align: right;\n",
       "    }\n",
       "</style>\n",
       "<table border=\"1\" class=\"dataframe\">\n",
       "  <thead>\n",
       "    <tr style=\"text-align: right;\">\n",
       "      <th></th>\n",
       "      <th>given</th>\n",
       "    </tr>\n",
       "    <tr>\n",
       "      <th>obs_id</th>\n",
       "      <th></th>\n",
       "    </tr>\n",
       "  </thead>\n",
       "  <tbody>\n",
       "    <tr>\n",
       "      <th>171227</th>\n",
       "      <td>False</td>\n",
       "    </tr>\n",
       "    <tr>\n",
       "      <th>177020</th>\n",
       "      <td>False</td>\n",
       "    </tr>\n",
       "    <tr>\n",
       "      <th>165375</th>\n",
       "      <td>False</td>\n",
       "    </tr>\n",
       "    <tr>\n",
       "      <th>207176</th>\n",
       "      <td>False</td>\n",
       "    </tr>\n",
       "    <tr>\n",
       "      <th>353253</th>\n",
       "      <td>False</td>\n",
       "    </tr>\n",
       "  </tbody>\n",
       "</table>\n",
       "</div>"
      ],
      "text/plain": [
       "        given\n",
       "obs_id       \n",
       "171227  False\n",
       "177020  False\n",
       "165375  False\n",
       "207176  False\n",
       "353253  False"
      ]
     },
     "execution_count": 37,
     "metadata": {},
     "output_type": "execute_result"
    }
   ],
   "source": [
    "public_subset.head()"
   ]
  },
  {
   "cell_type": "code",
   "execution_count": 38,
   "metadata": {},
   "outputs": [],
   "source": [
    "submission_format.to_csv(DATA_FINAL / \"public\" / \"submission_format.csv\")\n",
    "test.to_csv(DATA_FINAL / \"private\" / \"test.csv\")\n",
    "public_subset.to_csv(DATA_FINAL / \"private\" / \"public_subset.csv\")"
   ]
  },
  {
   "cell_type": "code",
   "execution_count": 39,
   "metadata": {},
   "outputs": [
    {
     "name": "stdout",
     "output_type": "stream",
     "text": [
      "<table border=\"1\" class=\"dataframe\">\n",
      "  <thead>\n",
      "    <tr style=\"text-align: right;\">\n",
      "      <th></th>\n",
      "      <th>meter_id</th>\n",
      "      <th>Timestamp</th>\n",
      "      <th>is_abnormal</th>\n",
      "    </tr>\n",
      "    <tr>\n",
      "      <th>obs_id</th>\n",
      "      <th></th>\n",
      "      <th></th>\n",
      "      <th></th>\n",
      "    </tr>\n",
      "  </thead>\n",
      "  <tbody>\n",
      "    <tr>\n",
      "      <th>171227</th>\n",
      "      <td>234_203</td>\n",
      "      <td>2013-11-03 19:00:00</td>\n",
      "      <td>False</td>\n",
      "    </tr>\n",
      "    <tr>\n",
      "      <th>177020</th>\n",
      "      <td>234_203</td>\n",
      "      <td>2013-11-03 19:30:00</td>\n",
      "      <td>False</td>\n",
      "    </tr>\n",
      "    <tr>\n",
      "      <th>165375</th>\n",
      "      <td>234_203</td>\n",
      "      <td>2013-11-03 20:00:00</td>\n",
      "      <td>False</td>\n",
      "    </tr>\n",
      "    <tr>\n",
      "      <th>207176</th>\n",
      "      <td>234_203</td>\n",
      "      <td>2013-11-03 20:30:00</td>\n",
      "      <td>False</td>\n",
      "    </tr>\n",
      "    <tr>\n",
      "      <th>353253</th>\n",
      "      <td>234_203</td>\n",
      "      <td>2013-11-03 21:00:00</td>\n",
      "      <td>False</td>\n",
      "    </tr>\n",
      "  </tbody>\n",
      "</table>\n"
     ]
    }
   ],
   "source": [
    "print(submission_format.head().to_html())"
   ]
  },
  {
   "cell_type": "code",
   "execution_count": 41,
   "metadata": {},
   "outputs": [
    {
     "name": "stdout",
     "output_type": "stream",
     "text": [
      "obs_id,meter_id,Timestamp,is_abnormal\r\n",
      "171227,234_203,2013-11-03 19:00:00,False\r\n",
      "177020,234_203,2013-11-03 19:30:00,False\r\n",
      "165375,234_203,2013-11-03 20:00:00,False\r\n",
      "207176,234_203,2013-11-03 20:30:00,False\r\n",
      "353253,234_203,2013-11-03 21:00:00,False\r\n"
     ]
    }
   ],
   "source": [
    "!head -n 6 {DATA_FINAL / \"public\" / \"submission_format.csv\"}"
   ]
  },
  {
   "cell_type": "code",
   "execution_count": 40,
   "metadata": {},
   "outputs": [
    {
     "data": {
      "text/plain": [
       "38_9686    254547\n",
       "334_61      75118\n",
       "234_203     72970\n",
       "Name: meter_id, dtype: int64"
      ]
     },
     "execution_count": 40,
     "metadata": {},
     "output_type": "execute_result"
    }
   ],
   "source": [
    "submission_format.meter_id.value_counts()"
   ]
  },
  {
   "cell_type": "markdown",
   "metadata": {},
   "source": [
    "# Metadata\n",
    "\n",
    " - Use comma separated instead of semicolon"
   ]
  },
  {
   "cell_type": "code",
   "execution_count": 17,
   "metadata": {},
   "outputs": [],
   "source": [
    "meta_data = pd.read_csv(DATA_RAW / 'Metadata' / 'meter-meta.csv', sep=';', index_col='meter_id')\n",
    "meta_data.to_csv(DATA_FINAL / \"public\" / \"metadata.csv\")"
   ]
  },
  {
   "cell_type": "code",
   "execution_count": 18,
   "metadata": {},
   "outputs": [
    {
     "data": {
      "text/html": [
       "<div>\n",
       "<style scoped>\n",
       "    .dataframe tbody tr th:only-of-type {\n",
       "        vertical-align: middle;\n",
       "    }\n",
       "\n",
       "    .dataframe tbody tr th {\n",
       "        vertical-align: top;\n",
       "    }\n",
       "\n",
       "    .dataframe thead th {\n",
       "        text-align: right;\n",
       "    }\n",
       "</style>\n",
       "<table border=\"1\" class=\"dataframe\">\n",
       "  <thead>\n",
       "    <tr style=\"text-align: right;\">\n",
       "      <th></th>\n",
       "      <th>site_id</th>\n",
       "      <th>meter_description</th>\n",
       "      <th>units</th>\n",
       "      <th>surface</th>\n",
       "      <th>activity</th>\n",
       "    </tr>\n",
       "    <tr>\n",
       "      <th>meter_id</th>\n",
       "      <th></th>\n",
       "      <th></th>\n",
       "      <th></th>\n",
       "      <th></th>\n",
       "      <th></th>\n",
       "    </tr>\n",
       "  </thead>\n",
       "  <tbody>\n",
       "    <tr>\n",
       "      <th>234_203</th>\n",
       "      <td>234_203</td>\n",
       "      <td>virtual main</td>\n",
       "      <td>Wh</td>\n",
       "      <td>5750.0</td>\n",
       "      <td>office</td>\n",
       "    </tr>\n",
       "    <tr>\n",
       "      <th>863</th>\n",
       "      <td>234_203</td>\n",
       "      <td>main meter</td>\n",
       "      <td>Wh</td>\n",
       "      <td>5750.0</td>\n",
       "      <td>office</td>\n",
       "    </tr>\n",
       "    <tr>\n",
       "      <th>869</th>\n",
       "      <td>234_203</td>\n",
       "      <td>other</td>\n",
       "      <td>Wh</td>\n",
       "      <td>5750.0</td>\n",
       "      <td>office</td>\n",
       "    </tr>\n",
       "    <tr>\n",
       "      <th>872</th>\n",
       "      <td>234_203</td>\n",
       "      <td>elevators</td>\n",
       "      <td>Wh</td>\n",
       "      <td>5750.0</td>\n",
       "      <td>office</td>\n",
       "    </tr>\n",
       "    <tr>\n",
       "      <th>875</th>\n",
       "      <td>234_203</td>\n",
       "      <td>Lighting</td>\n",
       "      <td>Wh</td>\n",
       "      <td>5750.0</td>\n",
       "      <td>office</td>\n",
       "    </tr>\n",
       "  </tbody>\n",
       "</table>\n",
       "</div>"
      ],
      "text/plain": [
       "          site_id meter_description units  surface activity\n",
       "meter_id                                                   \n",
       "234_203   234_203      virtual main    Wh   5750.0   office\n",
       "863       234_203        main meter    Wh   5750.0   office\n",
       "869       234_203             other    Wh   5750.0   office\n",
       "872       234_203         elevators    Wh   5750.0   office\n",
       "875       234_203          Lighting    Wh   5750.0   office"
      ]
     },
     "execution_count": 18,
     "metadata": {},
     "output_type": "execute_result"
    }
   ],
   "source": [
    "meta_data.head()"
   ]
  },
  {
   "cell_type": "code",
   "execution_count": 23,
   "metadata": {},
   "outputs": [
    {
     "data": {
      "text/plain": [
       "office        108\n",
       "laboratory     34\n",
       "general        32\n",
       "restaurant     13\n",
       "Name: activity, dtype: int64"
      ]
     },
     "execution_count": 23,
     "metadata": {},
     "output_type": "execute_result"
    }
   ],
   "source": [
    "meta_data.activity.value_counts()"
   ]
  },
  {
   "cell_type": "markdown",
   "metadata": {},
   "source": [
    "# Holidays"
   ]
  },
  {
   "cell_type": "code",
   "execution_count": 19,
   "metadata": {},
   "outputs": [],
   "source": [
    "holidays = pd.read_csv(DATA_RAW / 'Holidays' / 'holidays.csv', sep=';')\n",
    "\n",
    "holidays.index.name = 'row_id'\n",
    "\n",
    "holidays.to_csv(DATA_FINAL / \"public\" / \"holidays.csv\")"
   ]
  },
  {
   "cell_type": "code",
   "execution_count": 20,
   "metadata": {},
   "outputs": [
    {
     "data": {
      "text/html": [
       "<div>\n",
       "<style scoped>\n",
       "    .dataframe tbody tr th:only-of-type {\n",
       "        vertical-align: middle;\n",
       "    }\n",
       "\n",
       "    .dataframe tbody tr th {\n",
       "        vertical-align: top;\n",
       "    }\n",
       "\n",
       "    .dataframe thead th {\n",
       "        text-align: right;\n",
       "    }\n",
       "</style>\n",
       "<table border=\"1\" class=\"dataframe\">\n",
       "  <thead>\n",
       "    <tr style=\"text-align: right;\">\n",
       "      <th></th>\n",
       "      <th>Date</th>\n",
       "      <th>Holiday</th>\n",
       "      <th>site_id</th>\n",
       "    </tr>\n",
       "    <tr>\n",
       "      <th>row_id</th>\n",
       "      <th></th>\n",
       "      <th></th>\n",
       "      <th></th>\n",
       "    </tr>\n",
       "  </thead>\n",
       "  <tbody>\n",
       "    <tr>\n",
       "      <th>0</th>\n",
       "      <td>2016-01-01</td>\n",
       "      <td>New year</td>\n",
       "      <td>038</td>\n",
       "    </tr>\n",
       "    <tr>\n",
       "      <th>1</th>\n",
       "      <td>2016-03-28</td>\n",
       "      <td>Easter Monday</td>\n",
       "      <td>038</td>\n",
       "    </tr>\n",
       "    <tr>\n",
       "      <th>2</th>\n",
       "      <td>2016-05-01</td>\n",
       "      <td>Labour Day</td>\n",
       "      <td>038</td>\n",
       "    </tr>\n",
       "    <tr>\n",
       "      <th>3</th>\n",
       "      <td>2016-05-05</td>\n",
       "      <td>Ascension Thursday</td>\n",
       "      <td>038</td>\n",
       "    </tr>\n",
       "    <tr>\n",
       "      <th>4</th>\n",
       "      <td>2016-05-08</td>\n",
       "      <td>Victory in Europe Day</td>\n",
       "      <td>038</td>\n",
       "    </tr>\n",
       "  </tbody>\n",
       "</table>\n",
       "</div>"
      ],
      "text/plain": [
       "              Date                Holiday site_id\n",
       "row_id                                           \n",
       "0       2016-01-01               New year     038\n",
       "1       2016-03-28          Easter Monday     038\n",
       "2       2016-05-01             Labour Day     038\n",
       "3       2016-05-05     Ascension Thursday     038\n",
       "4       2016-05-08  Victory in Europe Day     038"
      ]
     },
     "execution_count": 20,
     "metadata": {},
     "output_type": "execute_result"
    }
   ],
   "source": [
    "holidays.head()"
   ]
  },
  {
   "cell_type": "markdown",
   "metadata": {},
   "source": [
    "# Weather\n",
    "\n",
    " - Coalese into single data frame"
   ]
  },
  {
   "cell_type": "code",
   "execution_count": 21,
   "metadata": {},
   "outputs": [
    {
     "name": "stdout",
     "output_type": "stream",
     "text": [
      "(391628, 4)\n"
     ]
    }
   ],
   "source": [
    "dfs = []\n",
    "\n",
    "for f in (DATA_RAW / 'Weather').glob('*.csv'):\n",
    "    dfs.append(pd.read_csv(f, sep=';', parse_dates=['Timestamp']))\n",
    "    \n",
    "weather = pd.concat(dfs).sort_values(['site_id', 'Timestamp'])\n",
    "weather.index.name = 'row_id'\n",
    "\n",
    "print(weather.shape)"
   ]
  },
  {
   "cell_type": "code",
   "execution_count": 22,
   "metadata": {},
   "outputs": [
    {
     "data": {
      "text/html": [
       "<div>\n",
       "<style scoped>\n",
       "    .dataframe tbody tr th:only-of-type {\n",
       "        vertical-align: middle;\n",
       "    }\n",
       "\n",
       "    .dataframe tbody tr th {\n",
       "        vertical-align: top;\n",
       "    }\n",
       "\n",
       "    .dataframe thead th {\n",
       "        text-align: right;\n",
       "    }\n",
       "</style>\n",
       "<table border=\"1\" class=\"dataframe\">\n",
       "  <thead>\n",
       "    <tr style=\"text-align: right;\">\n",
       "      <th></th>\n",
       "      <th>Timestamp</th>\n",
       "      <th>Temperature</th>\n",
       "      <th>Distance</th>\n",
       "      <th>site_id</th>\n",
       "    </tr>\n",
       "    <tr>\n",
       "      <th>row_id</th>\n",
       "      <th></th>\n",
       "      <th></th>\n",
       "      <th></th>\n",
       "      <th></th>\n",
       "    </tr>\n",
       "  </thead>\n",
       "  <tbody>\n",
       "    <tr>\n",
       "      <th>42628</th>\n",
       "      <td>2012-01-01 01:00:00</td>\n",
       "      <td>3.9</td>\n",
       "      <td>11.902932</td>\n",
       "      <td>38</td>\n",
       "    </tr>\n",
       "    <tr>\n",
       "      <th>42629</th>\n",
       "      <td>2012-01-01 02:00:00</td>\n",
       "      <td>4.1</td>\n",
       "      <td>11.902932</td>\n",
       "      <td>38</td>\n",
       "    </tr>\n",
       "    <tr>\n",
       "      <th>42630</th>\n",
       "      <td>2012-01-01 03:00:00</td>\n",
       "      <td>4.2</td>\n",
       "      <td>11.902932</td>\n",
       "      <td>38</td>\n",
       "    </tr>\n",
       "    <tr>\n",
       "      <th>42631</th>\n",
       "      <td>2012-01-01 04:00:00</td>\n",
       "      <td>4.1</td>\n",
       "      <td>11.902932</td>\n",
       "      <td>38</td>\n",
       "    </tr>\n",
       "    <tr>\n",
       "      <th>42632</th>\n",
       "      <td>2012-01-01 05:00:00</td>\n",
       "      <td>4.3</td>\n",
       "      <td>11.902932</td>\n",
       "      <td>38</td>\n",
       "    </tr>\n",
       "  </tbody>\n",
       "</table>\n",
       "</div>"
      ],
      "text/plain": [
       "                 Timestamp  Temperature   Distance site_id\n",
       "row_id                                                    \n",
       "42628  2012-01-01 01:00:00          3.9  11.902932      38\n",
       "42629  2012-01-01 02:00:00          4.1  11.902932      38\n",
       "42630  2012-01-01 03:00:00          4.2  11.902932      38\n",
       "42631  2012-01-01 04:00:00          4.1  11.902932      38\n",
       "42632  2012-01-01 05:00:00          4.3  11.902932      38"
      ]
     },
     "execution_count": 22,
     "metadata": {},
     "output_type": "execute_result"
    }
   ],
   "source": [
    "weather.head()"
   ]
  },
  {
   "cell_type": "code",
   "execution_count": 51,
   "metadata": {},
   "outputs": [],
   "source": [
    "weather.to_csv(DATA_FINAL / \"public\" / \"weather.csv\")"
   ]
  },
  {
   "cell_type": "markdown",
   "metadata": {},
   "source": [
    "# Json Args"
   ]
  },
  {
   "cell_type": "code",
   "execution_count": 52,
   "metadata": {},
   "outputs": [],
   "source": [
    "import json\n",
    "with open(DATA_FINAL/\"public\"/\"read_kwargs.json\", \"w+\") as f:\n",
    "    json.dump(dict(parse_dates=[\"Timestamp\"]), f)"
   ]
  },
  {
   "cell_type": "markdown",
   "metadata": {},
   "source": [
    "# Metric"
   ]
  },
  {
   "cell_type": "code",
   "execution_count": 53,
   "metadata": {},
   "outputs": [
    {
     "name": "stdout",
     "output_type": "stream",
     "text": [
      "The autoreload extension is already loaded. To reload it, use:\n",
      "  %reload_ext autoreload\n"
     ]
    }
   ],
   "source": [
    "%load_ext autoreload\n",
    "import sys\n",
    "\n",
    "sys.path.append(str(Path(os.getcwd() + \"/../metric/\").resolve()))\n",
    "\n",
    "%autoreload 1\n",
    "%aimport metrics"
   ]
  },
  {
   "cell_type": "code",
   "execution_count": 63,
   "metadata": {},
   "outputs": [],
   "source": [
    "assert 0.0 == metrics.weighted_precision_recall(submission_format.values, submission_format.values)\n",
    "assert 1.0 == metrics.weighted_precision_recall(test.values, test.values)"
   ]
  },
  {
   "cell_type": "code",
   "execution_count": 66,
   "metadata": {},
   "outputs": [],
   "source": [
    "perfectly_wrong = test.copy()\n",
    "perfectly_wrong.is_abnormal = ~perfectly_wrong.is_abnormal\n",
    "\n",
    "assert 0.0 == metrics.weighted_precision_recall(test.values, perfectly_wrong.values)\n",
    "assert 0.0 == metrics.weighted_precision_recall(test.values, submission_format.values)"
   ]
  },
  {
   "cell_type": "code",
   "execution_count": 67,
   "metadata": {},
   "outputs": [
    {
     "data": {
      "text/plain": [
       "0.27290418295710833"
      ]
     },
     "execution_count": 67,
     "metadata": {},
     "output_type": "execute_result"
    }
   ],
   "source": [
    "all_abnormal = submission_format.copy()\n",
    "all_abnormal.is_abnormal = True\n",
    "\n",
    "assert 1.0 == metrics.weighted_precision_recall(all_abnormal.values, all_abnormal.values)\n",
    "metrics.weighted_precision_recall(test.values, all_abnormal.values)"
   ]
  }
 ],
 "metadata": {
  "kernelspec": {
   "display_name": "Python 3",
   "language": "python",
   "name": "python3"
  },
  "language_info": {
   "codemirror_mode": {
    "name": "ipython",
    "version": 3
   },
   "file_extension": ".py",
   "mimetype": "text/x-python",
   "name": "python",
   "nbconvert_exporter": "python",
   "pygments_lexer": "ipython3",
   "version": "3.6.4"
  }
 },
 "nbformat": 4,
 "nbformat_minor": 2
}
