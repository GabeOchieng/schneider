{
 "cells": [
  {
   "cell_type": "code",
   "execution_count": 1,
   "metadata": {},
   "outputs": [],
   "source": [
    "%matplotlib inline\n",
    "\n",
    "from datetime import timedelta\n",
    "import os\n",
    "from pathlib import Path\n",
    "\n",
    "import pandas as pd\n",
    "import numpy as np\n",
    "\n",
    "import matplotlib.pyplot as plt\n",
    "\n",
    "DATA_RAW = Path(os.getcwd()) / os.pardir / \"data\" / \"raw\" / \"optimization\"\n",
    "DATA_FINAL = Path(os.getcwd()) / os.pardir / \"data\" / \"final\" / \"optimization\""
   ]
  },
  {
   "cell_type": "markdown",
   "metadata": {},
   "source": [
    "# Process data"
   ]
  },
  {
   "cell_type": "code",
   "execution_count": 2,
   "metadata": {},
   "outputs": [],
   "source": [
    "old_steps = list(range(15, 1455, 15))\n",
    "new_steps = range(96)\n",
    "\n",
    "old_columns = [f\"PV_Forecast_{s}\" for s in old_steps] + [f\"Load_Forecast_{s}\" for s in old_steps]\n",
    "new_columns = [f\"pv_{s:02d}\" for s in new_steps] + [f\"load_{s:02d}\" for s in new_steps]\n",
    "\n",
    "rename_map = dict(zip(old_columns, new_columns))\n",
    "\n",
    "rename_map.update({\n",
    "    'Timestamp': 'timestamp',\n",
    "    'SiteId': 'site_id',\n",
    "    'Load_Values': 'actual_consumption',\n",
    "    'PV_Values': 'actual_pv'\n",
    "})"
   ]
  },
  {
   "cell_type": "code",
   "execution_count": 93,
   "metadata": {
    "scrolled": false
   },
   "outputs": [],
   "source": [
    "def get_price_data(df, forecast_len=96):\n",
    "    \"\"\" Reshape df up to row n-96 to have \n",
    "        to 96 col arrays with buy and sell prices.\n",
    "    \"\"\"\n",
    "    arrays = []\n",
    "    \n",
    "#     df.index.name = 'original_index'\n",
    "#     df.reset_index(inplace=True)\n",
    "    \n",
    "    for i in range(df.shape[0] - forecast_len):\n",
    "        next_n_buy = df.Purchase_Price[i:i + forecast_len].copy()\n",
    "        next_n_sell = df.Sale_Price[i:i + forecast_len].copy()\n",
    "        \n",
    "        next_buy_sell = np.hstack((next_n_buy, next_n_sell))\n",
    "        \n",
    "        arrays.append(next_buy_sell)\n",
    "        \n",
    "    cols = [f\"price_buy_{s:02d}\" for s in range(forecast_len)] + \\\n",
    "           [f\"price_sell_{s:02d}\" for s in range(forecast_len)]\n",
    "    \n",
    "    price_df =  pd.DataFrame(data=arrays,\n",
    "                             columns=cols,\n",
    "                             index=df.index[:-forecast_len])\n",
    "    \n",
    "    return price_df\n",
    "\n",
    "\n",
    "def process_raw(f, out_path=None):\n",
    "    # load data\n",
    "    df = pd.read_csv(f, parse_dates=['Timestamp'], sep=';')\n",
    "    \n",
    "    # create period ids if we go from secret to given1 or if timedelta > 15m\n",
    "    df['period_id'] = ((df.Timestamp.diff() != timedelta(minutes=15)) | \n",
    "                       ((df.given == 'given1') & (df.given.shift(1) == 'secret'))).cumsum()\n",
    "    \n",
    "    # rename columns\n",
    "    df.rename(columns=rename_map, inplace=True)\n",
    "    \n",
    "    period_dfs = []\n",
    "    for pid in df.period_id.unique():\n",
    "        this_period = df[df.period_id == pid].copy()\n",
    "        price_data = get_price_data(this_period)\n",
    "        \n",
    "        period_dfs.append(pd.concat([this_period.iloc[:-96, :], price_data], axis=1))\n",
    "        \n",
    "    df = pd.concat(period_dfs, axis=0)\n",
    "    \n",
    "    train = df[df.given == 'given1'].copy()\n",
    "    test = df[df.given == 'given2'].copy()\n",
    "    private = df[df.given == 'secret'].copy()\n",
    "\n",
    "    # write to disk per group\n",
    "    for folder, sub_df in [('train', train), ('submit', test), ('eval', private)]:\n",
    "    \n",
    "        # drop \"given\"\n",
    "        sub_df.drop('given', axis=1, inplace=True)\n",
    "\n",
    "        prefixes = ['load', 'pv', 'price_buy', 'price_sell']\n",
    "        ordered_columns = [f\"{pre}_{d:02d}\" for pre in prefixes for d in range(96) ]\n",
    "\n",
    "        # order columns sensibly\n",
    "        sub_df = sub_df[['timestamp', 'site_id', 'period_id', 'actual_consumption', 'actual_pv'] + ordered_columns]\n",
    "        sub_df.set_index('timestamp', inplace=True)\n",
    "        \n",
    "        sub_df.to_csv(out_path/folder/f.name)\n",
    "    \n",
    "\n",
    "# f = DATA_RAW/'Secret'/'2.csv' \n",
    "# dd = process_raw(f, DATA_FINAL)\n",
    "    \n",
    "for f in (DATA_RAW/'Secret').glob('[0-9]*.csv'):\n",
    "    process_raw(f, DATA_FINAL)"
   ]
  },
  {
   "cell_type": "code",
   "execution_count": 3,
   "metadata": {
    "scrolled": false
   },
   "outputs": [
    {
     "data": {
      "text/plain": [
       "period_id\n",
       "1    False\n",
       "2    False\n",
       "3    False\n",
       "4    False\n",
       "5    False\n",
       "6    False\n",
       "Name: timestamp, dtype: bool"
      ]
     },
     "execution_count": 3,
     "metadata": {},
     "output_type": "execute_result"
    }
   ],
   "source": [
    "test_df = pd.read_csv(DATA_FINAL/'eval'/'2.csv', parse_dates=['timestamp'], index_col=['timestamp'])\n",
    "\n",
    "test_df.reset_index().groupby('period_id').timestamp.apply(lambda x: (x.diff() > timedelta(minutes=15)).any())"
   ]
  },
  {
   "cell_type": "code",
   "execution_count": 4,
   "metadata": {},
   "outputs": [],
   "source": [
    "f = DATA_RAW/'Secret'/'2.csv' \n",
    "df = pd.read_csv(f, parse_dates=['Timestamp'], sep=';')"
   ]
  },
  {
   "cell_type": "code",
   "execution_count": 5,
   "metadata": {},
   "outputs": [
    {
     "data": {
      "text/html": [
       "<div>\n",
       "<style scoped>\n",
       "    .dataframe tbody tr th:only-of-type {\n",
       "        vertical-align: middle;\n",
       "    }\n",
       "\n",
       "    .dataframe tbody tr th {\n",
       "        vertical-align: top;\n",
       "    }\n",
       "\n",
       "    .dataframe thead th {\n",
       "        text-align: right;\n",
       "    }\n",
       "</style>\n",
       "<table border=\"1\" class=\"dataframe\">\n",
       "  <thead>\n",
       "    <tr style=\"text-align: right;\">\n",
       "      <th></th>\n",
       "      <th>Timestamp</th>\n",
       "      <th>Load_Forecast_1005</th>\n",
       "      <th>Load_Forecast_1020</th>\n",
       "      <th>Load_Forecast_1035</th>\n",
       "      <th>Load_Forecast_105</th>\n",
       "      <th>Load_Forecast_1050</th>\n",
       "      <th>Load_Forecast_1065</th>\n",
       "      <th>Load_Forecast_1080</th>\n",
       "      <th>Load_Forecast_1095</th>\n",
       "      <th>Load_Forecast_1110</th>\n",
       "      <th>...</th>\n",
       "      <th>PV_Forecast_945</th>\n",
       "      <th>PV_Forecast_960</th>\n",
       "      <th>PV_Forecast_975</th>\n",
       "      <th>PV_Forecast_990</th>\n",
       "      <th>PV_Values</th>\n",
       "      <th>SiteId</th>\n",
       "      <th>Load_Values</th>\n",
       "      <th>Purchase_Price</th>\n",
       "      <th>Sale_Price</th>\n",
       "      <th>given</th>\n",
       "    </tr>\n",
       "  </thead>\n",
       "  <tbody>\n",
       "    <tr>\n",
       "      <th>4800</th>\n",
       "      <td>2014-12-27 16:45:00</td>\n",
       "      <td>11627.278145</td>\n",
       "      <td>11627.278145</td>\n",
       "      <td>11627.278145</td>\n",
       "      <td>10474.814157</td>\n",
       "      <td>11627.278145</td>\n",
       "      <td>11627.278145</td>\n",
       "      <td>11627.278145</td>\n",
       "      <td>11627.024884</td>\n",
       "      <td>11627.024884</td>\n",
       "      <td>...</td>\n",
       "      <td>16939.722318</td>\n",
       "      <td>25505.972661</td>\n",
       "      <td>23108.144118</td>\n",
       "      <td>22380.741301</td>\n",
       "      <td>0.0</td>\n",
       "      <td>2</td>\n",
       "      <td>9099.625374</td>\n",
       "      <td>0.083</td>\n",
       "      <td>0.031</td>\n",
       "      <td>secret</td>\n",
       "    </tr>\n",
       "    <tr>\n",
       "      <th>4801</th>\n",
       "      <td>2014-12-27 17:00:00</td>\n",
       "      <td>11627.278145</td>\n",
       "      <td>11627.278145</td>\n",
       "      <td>11627.278145</td>\n",
       "      <td>9830.443583</td>\n",
       "      <td>11627.278145</td>\n",
       "      <td>11627.278145</td>\n",
       "      <td>11627.024884</td>\n",
       "      <td>11627.024884</td>\n",
       "      <td>11627.024884</td>\n",
       "      <td>...</td>\n",
       "      <td>25505.972661</td>\n",
       "      <td>23108.144118</td>\n",
       "      <td>22380.741301</td>\n",
       "      <td>27528.062759</td>\n",
       "      <td>0.0</td>\n",
       "      <td>2</td>\n",
       "      <td>9099.625374</td>\n",
       "      <td>0.153</td>\n",
       "      <td>0.031</td>\n",
       "      <td>secret</td>\n",
       "    </tr>\n",
       "    <tr>\n",
       "      <th>4802</th>\n",
       "      <td>2014-12-27 17:15:00</td>\n",
       "      <td>11627.278145</td>\n",
       "      <td>11627.278145</td>\n",
       "      <td>11627.278145</td>\n",
       "      <td>10028.842185</td>\n",
       "      <td>11627.278145</td>\n",
       "      <td>11627.024884</td>\n",
       "      <td>11627.024884</td>\n",
       "      <td>11627.024884</td>\n",
       "      <td>11627.024884</td>\n",
       "      <td>...</td>\n",
       "      <td>23108.144118</td>\n",
       "      <td>22380.741301</td>\n",
       "      <td>27528.062759</td>\n",
       "      <td>37489.938485</td>\n",
       "      <td>0.0</td>\n",
       "      <td>2</td>\n",
       "      <td>9099.625374</td>\n",
       "      <td>0.153</td>\n",
       "      <td>0.031</td>\n",
       "      <td>secret</td>\n",
       "    </tr>\n",
       "    <tr>\n",
       "      <th>4803</th>\n",
       "      <td>2014-12-27 17:30:00</td>\n",
       "      <td>11627.278145</td>\n",
       "      <td>11627.278145</td>\n",
       "      <td>11627.278145</td>\n",
       "      <td>9540.592218</td>\n",
       "      <td>11627.024884</td>\n",
       "      <td>11627.024884</td>\n",
       "      <td>11627.024884</td>\n",
       "      <td>11627.024884</td>\n",
       "      <td>9383.924381</td>\n",
       "      <td>...</td>\n",
       "      <td>22380.741301</td>\n",
       "      <td>27528.062759</td>\n",
       "      <td>37489.938485</td>\n",
       "      <td>36356.198079</td>\n",
       "      <td>0.0</td>\n",
       "      <td>2</td>\n",
       "      <td>9099.625374</td>\n",
       "      <td>0.153</td>\n",
       "      <td>0.031</td>\n",
       "      <td>secret</td>\n",
       "    </tr>\n",
       "    <tr>\n",
       "      <th>4804</th>\n",
       "      <td>2014-12-27 17:45:00</td>\n",
       "      <td>11627.278145</td>\n",
       "      <td>11627.278145</td>\n",
       "      <td>11627.024884</td>\n",
       "      <td>9742.163046</td>\n",
       "      <td>11627.024884</td>\n",
       "      <td>11627.024884</td>\n",
       "      <td>11627.024884</td>\n",
       "      <td>9383.924381</td>\n",
       "      <td>9373.969054</td>\n",
       "      <td>...</td>\n",
       "      <td>27528.062759</td>\n",
       "      <td>37489.938485</td>\n",
       "      <td>36356.198079</td>\n",
       "      <td>39174.798142</td>\n",
       "      <td>0.0</td>\n",
       "      <td>2</td>\n",
       "      <td>9099.625374</td>\n",
       "      <td>0.153</td>\n",
       "      <td>0.031</td>\n",
       "      <td>secret</td>\n",
       "    </tr>\n",
       "  </tbody>\n",
       "</table>\n",
       "<p>5 rows × 199 columns</p>\n",
       "</div>"
      ],
      "text/plain": [
       "               Timestamp  Load_Forecast_1005  Load_Forecast_1020  \\\n",
       "4800 2014-12-27 16:45:00        11627.278145        11627.278145   \n",
       "4801 2014-12-27 17:00:00        11627.278145        11627.278145   \n",
       "4802 2014-12-27 17:15:00        11627.278145        11627.278145   \n",
       "4803 2014-12-27 17:30:00        11627.278145        11627.278145   \n",
       "4804 2014-12-27 17:45:00        11627.278145        11627.278145   \n",
       "\n",
       "      Load_Forecast_1035  Load_Forecast_105  Load_Forecast_1050  \\\n",
       "4800        11627.278145       10474.814157        11627.278145   \n",
       "4801        11627.278145        9830.443583        11627.278145   \n",
       "4802        11627.278145       10028.842185        11627.278145   \n",
       "4803        11627.278145        9540.592218        11627.024884   \n",
       "4804        11627.024884        9742.163046        11627.024884   \n",
       "\n",
       "      Load_Forecast_1065  Load_Forecast_1080  Load_Forecast_1095  \\\n",
       "4800        11627.278145        11627.278145        11627.024884   \n",
       "4801        11627.278145        11627.024884        11627.024884   \n",
       "4802        11627.024884        11627.024884        11627.024884   \n",
       "4803        11627.024884        11627.024884        11627.024884   \n",
       "4804        11627.024884        11627.024884         9383.924381   \n",
       "\n",
       "      Load_Forecast_1110   ...    PV_Forecast_945  PV_Forecast_960  \\\n",
       "4800        11627.024884   ...       16939.722318     25505.972661   \n",
       "4801        11627.024884   ...       25505.972661     23108.144118   \n",
       "4802        11627.024884   ...       23108.144118     22380.741301   \n",
       "4803         9383.924381   ...       22380.741301     27528.062759   \n",
       "4804         9373.969054   ...       27528.062759     37489.938485   \n",
       "\n",
       "      PV_Forecast_975  PV_Forecast_990  PV_Values  SiteId  Load_Values  \\\n",
       "4800     23108.144118     22380.741301        0.0       2  9099.625374   \n",
       "4801     22380.741301     27528.062759        0.0       2  9099.625374   \n",
       "4802     27528.062759     37489.938485        0.0       2  9099.625374   \n",
       "4803     37489.938485     36356.198079        0.0       2  9099.625374   \n",
       "4804     36356.198079     39174.798142        0.0       2  9099.625374   \n",
       "\n",
       "      Purchase_Price  Sale_Price   given  \n",
       "4800           0.083       0.031  secret  \n",
       "4801           0.153       0.031  secret  \n",
       "4802           0.153       0.031  secret  \n",
       "4803           0.153       0.031  secret  \n",
       "4804           0.153       0.031  secret  \n",
       "\n",
       "[5 rows x 199 columns]"
      ]
     },
     "execution_count": 5,
     "metadata": {},
     "output_type": "execute_result"
    }
   ],
   "source": [
    "raw_eval_2 = df[df.given == 'secret']\n",
    "raw_eval_2.head()"
   ]
  },
  {
   "cell_type": "code",
   "execution_count": 21,
   "metadata": {},
   "outputs": [
    {
     "data": {
      "text/plain": [
       "<matplotlib.axes._subplots.AxesSubplot at 0x10da74fd0>"
      ]
     },
     "execution_count": 21,
     "metadata": {},
     "output_type": "execute_result"
    },
    {
     "data": {
      "image/png": "[encoded data removed]",
      "text/plain": [
       "<matplotlib.figure.Figure at 0x10da545c0>"
      ]
     },
     "metadata": {},
     "output_type": "display_data"
    }
   ],
   "source": [
    "test_df[['actual_consumption', 'load_00']].head(30).plot()"
   ]
  },
  {
   "cell_type": "code",
   "execution_count": 22,
   "metadata": {},
   "outputs": [
    {
     "data": {
      "text/plain": [
       "<matplotlib.axes._subplots.AxesSubplot at 0x10e4cef98>"
      ]
     },
     "execution_count": 22,
     "metadata": {},
     "output_type": "execute_result"
    },
    {
     "data": {
      "image/png": "[encoded data removed]",
      "text/plain": [
       "<matplotlib.figure.Figure at 0x10e568048>"
      ]
     },
     "metadata": {},
     "output_type": "display_data"
    }
   ],
   "source": [
    "raw_eval_2.set_index('Timestamp')[['Load_Values', 'Load_Forecast_15']].head(30).plot()"
   ]
  },
  {
   "cell_type": "markdown",
   "metadata": {},
   "source": [
    "# Metadata"
   ]
  },
  {
   "cell_type": "code",
   "execution_count": 2,
   "metadata": {},
   "outputs": [
    {
     "ename": "FileNotFoundError",
     "evalue": "[Errno 2] No such file or directory: '/Users/bull/schneider/data-preparation/../data/final/optimization/public/metadata.csv'",
     "output_type": "error",
     "traceback": [
      "\u001b[0;31m---------------------------------------------------------------------------\u001b[0m",
      "\u001b[0;31mFileNotFoundError\u001b[0m                         Traceback (most recent call last)",
      "\u001b[0;32m<ipython-input-2-e0cef7e99d44>\u001b[0m in \u001b[0;36m<module>\u001b[0;34m()\u001b[0m\n\u001b[1;32m      1\u001b[0m \u001b[0mmetadata\u001b[0m \u001b[0;34m=\u001b[0m \u001b[0mpd\u001b[0m\u001b[0;34m.\u001b[0m\u001b[0mread_csv\u001b[0m\u001b[0;34m(\u001b[0m\u001b[0mDATA_RAW\u001b[0m\u001b[0;34m/\u001b[0m\u001b[0;34m'Metadata'\u001b[0m\u001b[0;34m/\u001b[0m\u001b[0;34m'site-meta.csv'\u001b[0m\u001b[0;34m,\u001b[0m \u001b[0msep\u001b[0m\u001b[0;34m=\u001b[0m\u001b[0;34m\";\"\u001b[0m\u001b[0;34m,\u001b[0m \u001b[0mdecimal\u001b[0m\u001b[0;34m=\u001b[0m\u001b[0;34m','\u001b[0m\u001b[0;34m,\u001b[0m \u001b[0mindex_col\u001b[0m\u001b[0;34m=\u001b[0m\u001b[0;36m0\u001b[0m\u001b[0;34m)\u001b[0m\u001b[0;34m\u001b[0m\u001b[0m\n\u001b[1;32m      2\u001b[0m \u001b[0;34m\u001b[0m\u001b[0m\n\u001b[0;32m----> 3\u001b[0;31m \u001b[0mmetadata\u001b[0m\u001b[0;34m.\u001b[0m\u001b[0mto_csv\u001b[0m\u001b[0;34m(\u001b[0m\u001b[0mDATA_FINAL\u001b[0m\u001b[0;34m/\u001b[0m\u001b[0;34m'public'\u001b[0m\u001b[0;34m/\u001b[0m\u001b[0;34m'metadata.csv'\u001b[0m\u001b[0;34m)\u001b[0m\u001b[0;34m\u001b[0m\u001b[0m\n\u001b[0m",
      "\u001b[0;32m~/anaconda3/envs/schneider/lib/python3.6/site-packages/pandas/core/frame.py\u001b[0m in \u001b[0;36mto_csv\u001b[0;34m(self, path_or_buf, sep, na_rep, float_format, columns, header, index, index_label, mode, encoding, compression, quoting, quotechar, line_terminator, chunksize, tupleize_cols, date_format, doublequote, escapechar, decimal)\u001b[0m\n\u001b[1;32m   1522\u001b[0m                                      \u001b[0mdoublequote\u001b[0m\u001b[0;34m=\u001b[0m\u001b[0mdoublequote\u001b[0m\u001b[0;34m,\u001b[0m\u001b[0;34m\u001b[0m\u001b[0m\n\u001b[1;32m   1523\u001b[0m                                      escapechar=escapechar, decimal=decimal)\n\u001b[0;32m-> 1524\u001b[0;31m         \u001b[0mformatter\u001b[0m\u001b[0;34m.\u001b[0m\u001b[0msave\u001b[0m\u001b[0;34m(\u001b[0m\u001b[0;34m)\u001b[0m\u001b[0;34m\u001b[0m\u001b[0m\n\u001b[0m\u001b[1;32m   1525\u001b[0m \u001b[0;34m\u001b[0m\u001b[0m\n\u001b[1;32m   1526\u001b[0m         \u001b[0;32mif\u001b[0m \u001b[0mpath_or_buf\u001b[0m \u001b[0;32mis\u001b[0m \u001b[0;32mNone\u001b[0m\u001b[0;34m:\u001b[0m\u001b[0;34m\u001b[0m\u001b[0m\n",
      "\u001b[0;32m~/anaconda3/envs/schneider/lib/python3.6/site-packages/pandas/io/formats/format.py\u001b[0m in \u001b[0;36msave\u001b[0;34m(self)\u001b[0m\n\u001b[1;32m   1635\u001b[0m             f, handles = _get_handle(self.path_or_buf, self.mode,\n\u001b[1;32m   1636\u001b[0m                                      \u001b[0mencoding\u001b[0m\u001b[0;34m=\u001b[0m\u001b[0mencoding\u001b[0m\u001b[0;34m,\u001b[0m\u001b[0;34m\u001b[0m\u001b[0m\n\u001b[0;32m-> 1637\u001b[0;31m                                      compression=self.compression)\n\u001b[0m\u001b[1;32m   1638\u001b[0m             \u001b[0mclose\u001b[0m \u001b[0;34m=\u001b[0m \u001b[0;32mTrue\u001b[0m\u001b[0;34m\u001b[0m\u001b[0m\n\u001b[1;32m   1639\u001b[0m \u001b[0;34m\u001b[0m\u001b[0m\n",
      "\u001b[0;32m~/anaconda3/envs/schneider/lib/python3.6/site-packages/pandas/io/common.py\u001b[0m in \u001b[0;36m_get_handle\u001b[0;34m(path_or_buf, mode, encoding, compression, memory_map, is_text)\u001b[0m\n\u001b[1;32m    388\u001b[0m         \u001b[0;32melif\u001b[0m \u001b[0mencoding\u001b[0m\u001b[0;34m:\u001b[0m\u001b[0;34m\u001b[0m\u001b[0m\n\u001b[1;32m    389\u001b[0m             \u001b[0;31m# Python 3 and encoding\u001b[0m\u001b[0;34m\u001b[0m\u001b[0;34m\u001b[0m\u001b[0m\n\u001b[0;32m--> 390\u001b[0;31m             \u001b[0mf\u001b[0m \u001b[0;34m=\u001b[0m \u001b[0mopen\u001b[0m\u001b[0;34m(\u001b[0m\u001b[0mpath_or_buf\u001b[0m\u001b[0;34m,\u001b[0m \u001b[0mmode\u001b[0m\u001b[0;34m,\u001b[0m \u001b[0mencoding\u001b[0m\u001b[0;34m=\u001b[0m\u001b[0mencoding\u001b[0m\u001b[0;34m)\u001b[0m\u001b[0;34m\u001b[0m\u001b[0m\n\u001b[0m\u001b[1;32m    391\u001b[0m         \u001b[0;32melif\u001b[0m \u001b[0mis_text\u001b[0m\u001b[0;34m:\u001b[0m\u001b[0;34m\u001b[0m\u001b[0m\n\u001b[1;32m    392\u001b[0m             \u001b[0;31m# Python 3 and no explicit encoding\u001b[0m\u001b[0;34m\u001b[0m\u001b[0;34m\u001b[0m\u001b[0m\n",
      "\u001b[0;31mFileNotFoundError\u001b[0m: [Errno 2] No such file or directory: '/Users/bull/schneider/data-preparation/../data/final/optimization/public/metadata.csv'"
     ]
    }
   ],
   "source": [
    "metadata = pd.read_csv(DATA_RAW/'Metadata'/'site-meta.csv', sep=\";\", decimal=',', index_col=0)\n",
    "\n",
    "metadata.to_csv(DATA_FINAL/'public'/'metadata.csv')"
   ]
  },
  {
   "cell_type": "code",
   "execution_count": null,
   "metadata": {},
   "outputs": [],
   "source": []
  }
 ],
 "metadata": {
  "kernelspec": {
   "display_name": "Python 3",
   "language": "python",
   "name": "python3"
  },
  "language_info": {
   "codemirror_mode": {
    "name": "ipython",
    "version": 3
   },
   "file_extension": ".py",
   "mimetype": "text/x-python",
   "name": "python",
   "nbconvert_exporter": "python",
   "pygments_lexer": "ipython3",
   "version": "3.6.4"
  }
 },
 "nbformat": 4,
 "nbformat_minor": 2
}
